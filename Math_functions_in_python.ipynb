{
  "nbformat": 4,
  "nbformat_minor": 0,
  "metadata": {
    "colab": {
      "provenance": []
    },
    "kernelspec": {
      "name": "python3",
      "display_name": "Python 3"
    },
    "language_info": {
      "name": "python"
    }
  },
  "cells": [
    {
      "cell_type": "markdown",
      "source": [
        "#Math functions in python"
      ],
      "metadata": {
        "id": "5uBUpaQjXTz0"
      }
    },
    {
      "cell_type": "code",
      "execution_count": 1,
      "metadata": {
        "id": "OnqEZ5JhWnB-"
      },
      "outputs": [],
      "source": [
        "import math"
      ]
    },
    {
      "cell_type": "code",
      "source": [
        "print(abs(-5))"
      ],
      "metadata": {
        "colab": {
          "base_uri": "https://localhost:8080/"
        },
        "id": "yRJGDXLDXQJs",
        "outputId": "b2995eba-9b81-4186-8bc1-b3094a8968b6"
      },
      "execution_count": 2,
      "outputs": [
        {
          "output_type": "stream",
          "name": "stdout",
          "text": [
            "5\n"
          ]
        }
      ]
    },
    {
      "cell_type": "markdown",
      "source": [
        "1. Counting with Absolute Values:\n",
        "If you have 5 apples and you give away 3 apples, how many apples do you have left? What is the absolute number of apples you have?\n",
        "\n",
        "2. Playing with Toys:\n",
        "If you have 2 toy cars and your friend gives you 4 more toy cars to play with, how many toy cars do you have in total? What is the absolute number of toy cars you have?\n",
        "\n",
        "3. Favorite Colors:\n",
        "If you have 3 red crayons and someone gives you 2 blue crayons, how many crayons do you have altogether? What is the absolute number of crayons you have?\n",
        "\n",
        "4. Animal Friends:\n",
        "If you see 8 ducks swimming in a pond and 5 ducks fly away, how many ducks are left swimming? What is the absolute number of ducks still swimming?\n",
        "\n",
        "5. Fruits in a Basket:\n",
        "If there are 6 bananas in a basket and you eat 7 grapes from another basket, how many fruits do you have in total? What is the absolute number of fruits you have?"
      ],
      "metadata": {
        "id": "HVwsBYnNaZXU"
      }
    },
    {
      "cell_type": "code",
      "source": [
        "print(pow(2, 3))"
      ],
      "metadata": {
        "colab": {
          "base_uri": "https://localhost:8080/"
        },
        "id": "1sgRuQXzXBAG",
        "outputId": "25df8914-2bfd-4771-8170-445cd1a27a84"
      },
      "execution_count": 3,
      "outputs": [
        {
          "output_type": "stream",
          "name": "stdout",
          "text": [
            "8\n"
          ]
        }
      ]
    },
    {
      "cell_type": "markdown",
      "source": [
        "pow (power):\n",
        "\n",
        "Question 1: Mia has 2 boxes of crayons. Each box has 4 crayons. How many crayons does she have in total?\n",
        "\n",
        "Question 2: Sammy has 3 toy cars. Each car has 2 wheels. How many wheels are there in total?\n",
        "\n",
        "Question 3: Jenny has 4 candies. Each candy is wrapped in 2 wrappers. How many wrappers does she have in total?\n",
        "\n",
        "Question 4: Tim has 5 building blocks. Each block has 3 sides. How many sides are there in total?\n",
        "\n",
        "Question 5: Sarah has 6 flowers. Each flower has 2 petals. How many petals are there in total?"
      ],
      "metadata": {
        "id": "fyqmsdUDZpTC"
      }
    },
    {
      "cell_type": "code",
      "source": [
        "print(round(3.14159, 2))"
      ],
      "metadata": {
        "colab": {
          "base_uri": "https://localhost:8080/"
        },
        "id": "GX5qphwQXBFf",
        "outputId": "aac85625-35ff-46b6-bee9-3e94361e6f5c"
      },
      "execution_count": 4,
      "outputs": [
        {
          "output_type": "stream",
          "name": "stdout",
          "text": [
            "3.14\n"
          ]
        }
      ]
    },
    {
      "cell_type": "markdown",
      "source": [
        "round:\n",
        "\n",
        "Question 1: Joey has 7 marbles. He gave 3 marbles to his friend. How many marbles does he have left?\n",
        "\n",
        "Question 2: Alice has 9 cookies. She ate 4 cookies. How many cookies does she have now?\n",
        "\n",
        "Question 3: Tommy has 10 blocks. He stacked 6 blocks. How many blocks does he have left to stack?\n",
        "\n",
        "Question 4: Emma has 8 stickers. She used 3 stickers. How many stickers does she have left?\n",
        "\n",
        "Question 5: Jack has 12 toy cars. He played with 5 toy cars. How many toy cars does he have left?"
      ],
      "metadata": {
        "id": "KhtWpkoXZ0_p"
      }
    },
    {
      "cell_type": "code",
      "source": [
        "print(max([3, 1, 4, 1, 5]))"
      ],
      "metadata": {
        "colab": {
          "base_uri": "https://localhost:8080/"
        },
        "id": "iMjhyDBAXBH8",
        "outputId": "cead8288-f94a-4e33-d386-6d553da21843"
      },
      "execution_count": 5,
      "outputs": [
        {
          "output_type": "stream",
          "name": "stdout",
          "text": [
            "5\n"
          ]
        }
      ]
    },
    {
      "cell_type": "markdown",
      "source": [
        "max:\n",
        "\n",
        "Question 1: Sammy has 3 apples, and Johnny has 5 apples. Who has more apples?\n",
        "\n",
        "Question 2: Molly has 4 pencils, and Lily has 2 pencils. Who has more pencils?\n",
        "\n",
        "Question 3: David collected 7 seashells, and Emily collected 3 seashells. Who collected more seashells?\n",
        "\n",
        "Question 4: Sarah has 6 balloons, and Timmy has 4 balloons. Who has more balloons?\n",
        "\n",
        "Question 5: Jack has 9 blocks, and Emma has 8 blocks. Who has more blocks?"
      ],
      "metadata": {
        "id": "_TxJOy6pZ3Hp"
      }
    },
    {
      "cell_type": "code",
      "source": [
        "print(min([3, 1, 4, 1, 5]))"
      ],
      "metadata": {
        "colab": {
          "base_uri": "https://localhost:8080/"
        },
        "id": "-xGkEPP9XBJ9",
        "outputId": "dff67c18-161e-4d96-fffa-401cac4ca6d4"
      },
      "execution_count": 6,
      "outputs": [
        {
          "output_type": "stream",
          "name": "stdout",
          "text": [
            "1\n"
          ]
        }
      ]
    },
    {
      "cell_type": "markdown",
      "source": [
        "min:\n",
        "\n",
        "Question 1: Tommy has 3 marbles, and Sarah has 5 marbles. Who has fewer marbles?\n",
        "\n",
        "Question 2: Lily has 4 apples, and Molly has 6 apples. Who has fewer apples?\n",
        "\n",
        "Question 3: Emily has 7 stickers, and David has 9 stickers. Who has fewer stickers?\n",
        "\n",
        "Question 4: Tim has 2 balloons, and Jenny has 4 balloons. Who has fewer balloons?\n",
        "\n",
        "Question 5: Emma has 8 blocks, and Jack has 10 blocks. Who has fewer blocks?\n",
        "\n"
      ],
      "metadata": {
        "id": "87J5mMzmZ4-_"
      }
    },
    {
      "cell_type": "code",
      "source": [
        "print(sum([1, 2, 3, 4, 5]))"
      ],
      "metadata": {
        "colab": {
          "base_uri": "https://localhost:8080/"
        },
        "id": "dmVkQZ02XBMQ",
        "outputId": "2b00b92f-a1bb-44d6-887e-dbf23e6cc7f4"
      },
      "execution_count": 7,
      "outputs": [
        {
          "output_type": "stream",
          "name": "stdout",
          "text": [
            "15\n"
          ]
        }
      ]
    },
    {
      "cell_type": "markdown",
      "source": [
        "sum:\n",
        "\n",
        "Question 1: Johnny found 2 shells on Monday and 3 shells on Tuesday. How many shells did he find in total?\n",
        "\n",
        "Question 2: Sally has 4 red apples and 2 green apples. How many apples does she have in total?\n",
        "\n",
        "Question 3: Bobby has 5 toy cars and his friend gave him 3 more toy cars. How many toy cars does Bobby have now?\n",
        "\n",
        "Question 4: Amy bought 3 books today and 2 books yesterday. How many books did she buy in total?\n",
        "\n",
        "Question 5: Peter has 6 stickers and he received 4 more stickers from his friend. How many stickers does Peter have now?"
      ],
      "metadata": {
        "id": "l5Uv8G1IZ7e_"
      }
    },
    {
      "cell_type": "code",
      "source": [
        "print(math.sqrt(25))"
      ],
      "metadata": {
        "colab": {
          "base_uri": "https://localhost:8080/"
        },
        "id": "2u-7GWzqXBOe",
        "outputId": "a51880ef-8e7a-413e-8658-9c184d01b1bd"
      },
      "execution_count": 8,
      "outputs": [
        {
          "output_type": "stream",
          "name": "stdout",
          "text": [
            "5.0\n"
          ]
        }
      ]
    },
    {
      "cell_type": "markdown",
      "source": [
        "math.sqrt (square root):\n",
        "\n",
        "Question 1: Tommy has 9 apples. How many apples can he put in each basket if he wants to have the same number of apples in each basket?\n",
        "\n",
        "Question 2: Sarah has 16 candies. She wants to share them equally among her 4 friends. How many candies will each friend get?\n",
        "\n",
        "Question 3: Timmy planted 25 flowers in his garden. How many flowers are in each row if he plants them in rows of the same number?\n",
        "\n",
        "Question 4: Emma has 4 toy cars. If she wants to arrange them in a square pattern, how many toy cars will be on each side?\n",
        "\n",
        "Question 5: Johnny has 36 building blocks. How many blocks will he use for each layer if he builds a tower with the blocks in layers of the same size?"
      ],
      "metadata": {
        "id": "wPX8aclTaDkC"
      }
    },
    {
      "cell_type": "code",
      "source": [
        "print(math.sin(math.pi/2))"
      ],
      "metadata": {
        "colab": {
          "base_uri": "https://localhost:8080/"
        },
        "id": "5ejCi7ciXBQ1",
        "outputId": "48393e51-46ce-43e1-d15a-7d893161e8f8"
      },
      "execution_count": 9,
      "outputs": [
        {
          "output_type": "stream",
          "name": "stdout",
          "text": [
            "1.0\n"
          ]
        }
      ]
    },
    {
      "cell_type": "markdown",
      "source": [
        "math.sin (sine):\n",
        "\n",
        "Question 1: Tommy and Sarah are swinging on swings. If Tommy swings 3 times and Sarah swings 2 times, who swings more?\n",
        "\n",
        "Question 2: Timmy and Emma are jumping rope. If Timmy jumps 4 times and Emma jumps 3 times, who jumps more?\n",
        "\n",
        "Question 3: Johnny and Lily are dancing. If Johnny spins around 5 times and Lily spins around 4 times, who spins more?\n",
        "\n",
        "Question 4: Bobby and Amy are clapping. If Bobby claps 6 times and Amy claps 5 times, who claps more?\n",
        "\n",
        "Question 5: Peter and Sally are hopping. If Peter hops 7 times and Sally hops 6 times, who hops more?"
      ],
      "metadata": {
        "id": "pWafJWN0aHfe"
      }
    },
    {
      "cell_type": "code",
      "source": [
        "print(math.log(10))"
      ],
      "metadata": {
        "colab": {
          "base_uri": "https://localhost:8080/"
        },
        "id": "rY-K49jbXBVN",
        "outputId": "12357adc-b081-4cc6-eae5-46deb4013ca6"
      },
      "execution_count": 10,
      "outputs": [
        {
          "output_type": "stream",
          "name": "stdout",
          "text": [
            "2.302585092994046\n"
          ]
        }
      ]
    },
    {
      "cell_type": "markdown",
      "source": [
        "math.log (natural logarithm):\n",
        "\n",
        "Question 1: Tommy has 8 blocks. If he builds a tower by stacking the blocks, how many blocks does he use on each level?\n",
        "\n",
        "Question 2: Sarah has 16 stickers. If she puts them in rows with the same number in each row, how many rows will she have?\n",
        "\n",
        "Question 3: Timmy has 9 toy cars. If he arranges them in rows with the same number in each row, how many rows will he have?\n",
        "\n",
        "Question 4: Emma has 12 candies. If she shares them equally among her friends, how many candies will each friend get?\n",
        "\n",
        "Question 5: Johnny has 25 apples. If he puts them in baskets with the same number of apples in each basket, how many baskets will he have?"
      ],
      "metadata": {
        "id": "QRfmD5ZNaJuX"
      }
    },
    {
      "cell_type": "code",
      "source": [
        "print(math.factorial(5))"
      ],
      "metadata": {
        "colab": {
          "base_uri": "https://localhost:8080/"
        },
        "id": "zeEeaMgpXBYg",
        "outputId": "46f4a5d8-295a-4dac-9dce-6b8bd066556f"
      },
      "execution_count": 11,
      "outputs": [
        {
          "output_type": "stream",
          "name": "stdout",
          "text": [
            "120\n"
          ]
        }
      ]
    },
    {
      "cell_type": "markdown",
      "source": [
        "math.factorial (factorial):\n",
        "\n",
        "Question 1: Tommy has 3 toy cars. How many different ways can he arrange them in a line?\n",
        "\n",
        "Question 2: Sarah has 4 candies. How many different ways can she arrange them in a row?\n",
        "\n",
        "Question 3: Timmy has 5 building blocks. How many different ways can he stack them to make a tower?\n",
        "\n",
        "Question 4: Emma has 6 stickers. How many different ways can she arrange them in a pattern?\n",
        "\n",
        "Question 5: Johnny has 7 apples. How many different ways can he group them into baskets?"
      ],
      "metadata": {
        "id": "9kP-Yu8oaLDf"
      }
    }
  ]
}